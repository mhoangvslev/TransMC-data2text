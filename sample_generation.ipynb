{
 "cells": [
  {
   "cell_type": "code",
   "execution_count": 1,
   "metadata": {},
   "outputs": [
    {
     "name": "stdout",
     "output_type": "stream",
     "text": [
      "ok\n"
     ]
    }
   ],
   "source": [
    "from model import *\n",
    "my_model = mymodel().cuda()\n",
    "my_model.eval()\n",
    "my_model.load_state_dict(torch.load('/data/private/E2E/gen_model/repro/try_1/6/model'))\n",
    "print('ok') "
   ]
  },
  {
   "cell_type": "code",
   "execution_count": null,
   "metadata": {},
   "outputs": [],
   "source": [
    "['<name>', '<eatType>', '<priceRange>', '<customer rating>', '<near>', '<food>', '<area>', '<familyFriendly>']"
   ]
  },
  {
   "cell_type": "code",
   "execution_count": 2,
   "metadata": {},
   "outputs": [],
   "source": [
    "import random\n",
    "import pandas as pd\n",
    "csv_file='dataset/testset_w_refs.csv'\n",
    "dataset = pd.read_csv(csv_file)\n",
    "columns = dataset.columns\n",
    "conditions = dataset[columns[0]]\n",
    "        \n",
    "typ_list = {}\n",
    "for k in range(len(conditions)):\n",
    "    cond_set = conditions[k].split(',')\n",
    "    for m in range(len(cond_set)):\n",
    "        cond_set[m] = cond_set[m].strip()\n",
    "        pos = cond_set[m].index('[')\n",
    "        if cond_set[m][:pos] in typ_list.keys():\n",
    "            typ_list[cond_set[m][:pos]].add(cond_set[m][pos+1:-1])\n",
    "        else:            \n",
    "            typ_list[cond_set[m][:pos]] = {cond_set[m][pos+1:-1]}   \n",
    "\n",
    "def sample_batch(tokenizer, cond_name, cond_set):\n",
    "    condition_string = ''\n",
    "    for m in range(len(cond_set)):\n",
    "        condition_string += cond_name[m] + cond_set[m] + ' '\n",
    "\n",
    "    input_string = condition_string + '<START>'\n",
    "    input_ids = torch.tensor(tokenizer.encode(input_string, add_special_tokens=True))\n",
    "\n",
    "    input_len = len(input_ids)\n",
    "\n",
    "    return input_ids, condition_string"
   ]
  },
  {
   "cell_type": "code",
   "execution_count": 41,
   "metadata": {},
   "outputs": [],
   "source": [
    "from bert_score import BERTScorer\n",
    "scorer = BERTScorer(lang=\"en\",  rescale_with_baseline=False)\n",
    "\n",
    "the_name_list = []\n",
    "name_list = []\n",
    "for name in typ_list['name']:\n",
    "    if 'the' in name.lower():\n",
    "        the_name_list.append(name)\n",
    "    else:\n",
    "        name_list.append(name)\n",
    "        \n",
    "the_near_list = []\n",
    "near_list = []\n",
    "for near in typ_list['near']:\n",
    "    if 'the' in near.lower():\n",
    "        the_near_list.append(near)\n",
    "    else:\n",
    "        near_list.append(near)                "
   ]
  },
  {
   "cell_type": "code",
   "execution_count": 102,
   "metadata": {},
   "outputs": [],
   "source": [
    "def find_cand(value, typ_list):\n",
    "    best_score = 0 \n",
    "    for v in typ_list:\n",
    "        score = scorer.score([value.lower()], [v.lower()])[2].item()\n",
    "        if score > best_score:\n",
    "            best_score = score\n",
    "            placeholder_value = v\n",
    "    return placeholder_value"
   ]
  },
  {
   "cell_type": "code",
   "execution_count": 116,
   "metadata": {},
   "outputs": [
    {
     "name": "stdout",
     "output_type": "stream",
     "text": [
      "<name>, <food>, <customer rating>, <area>, <near>, \n",
      "Blue Man, hot food, 2.1 out of 5, countryside, the school, \n",
      "Green Man, Fast food, 3 out of 5, city centre, The Bakers, \n",
      "Green Man is a fast food restaurant in the city centre near The Bakers. It has a customer rating of 3 out of 5.\n",
      "Blue Man is a fast food restaurant in the countryside near the school. It has a customer rating of 2.1 out of 5.\n"
     ]
    }
   ],
   "source": [
    "# <name> <eatType> <food> <priceRange> <customer rating> <area> <familyFriendly> <near>\n",
    "random.seed(10)\n",
    "\n",
    "name = 'Blue Man' # None\n",
    "eatType = None # None\n",
    "food = 'hot food' # None \n",
    "priceRange = None # '<priceRange>'\n",
    "customer_rating = '2.1 out of 5' # '<CUSTOMER_RATING>' # None \n",
    "area = 'countryside' # None\n",
    "familyFriendly = None\n",
    "near = 'the school' # None\n",
    "\n",
    "# name = 'The Guy' # None\n",
    "# eatType = None # None\n",
    "# food = 'German' # None \n",
    "# priceRange = 'expensive' # '<priceRange>'\n",
    "# customer_rating = None # '<CUSTOMER_RATING>' # None \n",
    "# area = None # 'countryside' # None\n",
    "# familyFriendly = 'yes' # None\n",
    "# near = None #'the school' # None\n",
    "\n",
    "cond_list = []\n",
    "unseen_list = []\n",
    "conditions = []\n",
    "if name is not None:\n",
    "    if 'the' in name.lower():\n",
    "        placeholder_name = find_cand(name, the_name_list)\n",
    "    else:\n",
    "        placeholder_name = find_cand(name, name_list)\n",
    "    cond_list.append('<name>')\n",
    "    unseen_list.append(name)\n",
    "    conditions.append(placeholder_name)\n",
    "if eatType is not None:\n",
    "    placeholder_eatType = find_cand(eatType, typ_list['eatType'])    \n",
    "    cond_list.append('<eatType>')\n",
    "    unseen_list.append(eatType)\n",
    "    conditions.append(placeholder_eatType)\n",
    "if food is not None:\n",
    "    placeholder_food = find_cand(food, typ_list['food'])\n",
    "    cond_list.append('<food>')\n",
    "    unseen_list.append(food)\n",
    "    conditions.append(placeholder_food)\n",
    "if priceRange is not None:\n",
    "    placeholder_priceRange = find_cand(priceRange, typ_list['priceRange'])\n",
    "    cond_list.append('<priceRange>')\n",
    "    unseen_list.append(priceRange)\n",
    "    conditions.append(placeholder_priceRange)    \n",
    "if customer_rating is not None:\n",
    "    placeholder_customer_rating = find_cand(customer_rating, typ_list['customer rating'])\n",
    "    cond_list.append('<customer rating>')\n",
    "    unseen_list.append(customer_rating)\n",
    "    conditions.append(placeholder_customer_rating)        \n",
    "if area is not None:\n",
    "    placeholder_area = find_cand(area, typ_list['area'])\n",
    "    cond_list.append('<area>')\n",
    "    unseen_list.append(area)\n",
    "    conditions.append(placeholder_area)    \n",
    "if familyFriendly is not None:\n",
    "    cond_list.append('<familyFriendly>')\n",
    "    unseen_list.append(familyFriendly)\n",
    "    conditions.append(familyFriendly)            \n",
    "if near is not None:\n",
    "    if 'the' in near.lower():\n",
    "        placeholder_near = find_cand(near, the_near_list)\n",
    "    else:\n",
    "        placeholder_near = find_cand(near, scorer)\n",
    "    cond_list.append('<near>')\n",
    "    unseen_list.append(near)\n",
    "    conditions.append(placeholder_near)        \n",
    "\n",
    "\n",
    "# del cond_name[2]\n",
    "# del conditions[2]\n",
    "\n",
    "sample = sample_batch(my_model.tokenizer, cond_list, conditions)\n",
    "\n",
    "input_ids = sample[0].cuda()\n",
    "condition_string = sample[1]  \n",
    "input_len = len(input_ids)\n",
    "\n",
    "max_len = 70\n",
    "for _ in range(max_len):\n",
    "    model_out = my_model.model_feeding(input_ids) # (batch, seq_len, emb_dim)\n",
    "    pred_idx = model_out.argmax(1)[-1]        \n",
    "    if pred_idx == my_model.tokenizer.eos_token_id:\n",
    "        break            \n",
    "    input_ids = torch.cat((input_ids, pred_idx.unsqueeze(0)), 0)        \n",
    "\n",
    "out_sen = my_model.tokenizer.decode(input_ids[input_len:])\n",
    "\n",
    "for cond in cond_list:\n",
    "    print(cond, end=', ')\n",
    "print('')\n",
    "\n",
    "for unseen in unseen_list:\n",
    "    print(unseen, end=', ')\n",
    "print('')\n",
    "\n",
    "for condition in conditions:\n",
    "    print(condition, end=', ')\n",
    "print('')\n",
    "\n",
    "print(out_sen)\n",
    "\n",
    "if name is not None:\n",
    "    out_sen = out_sen.replace(placeholder_name, name)\n",
    "if eatType is not None:\n",
    "    out_sen = out_sen.replace(placeholder_eatType, eatType)\n",
    "if food is not None:\n",
    "    out_sen = out_sen.replace(placeholder_food, food)\n",
    "if priceRange is not None:\n",
    "    out_sen = out_sen.replace(placeholder_priceRange, priceRange)\n",
    "if customer_rating is not None:\n",
    "    out_sen = out_sen.replace(placeholder_customer_rating, customer_rating)\n",
    "if area is not None:\n",
    "    out_sen = out_sen.replace(placeholder_area, area)  \n",
    "if near is not None:\n",
    "    out_sen = out_sen.replace(placeholder_near, near)\n",
    "print(out_sen)"
   ]
  },
  {
   "cell_type": "code",
   "execution_count": 51,
   "metadata": {},
   "outputs": [
    {
     "data": {
      "text/plain": [
       "'Ranch'"
      ]
     },
     "execution_count": 51,
     "metadata": {},
     "output_type": "execute_result"
    }
   ],
   "source": [
    "placeholder_name"
   ]
  },
  {
   "cell_type": "code",
   "execution_count": 29,
   "metadata": {},
   "outputs": [
    {
     "name": "stdout",
     "output_type": "stream",
     "text": [
      "name {'Green Man', 'The Mill', 'The Plough', 'The Vaults', 'Blue Spice', 'Zizzi', 'The Cricketers', 'Cotto', 'The Punter', 'Strada', 'Cocum', 'The Waterman', 'The Wrestlers', 'Giraffe', 'Loch Fyne', 'The Phoenix', 'Wildwood', 'Clowns'}\n",
      "eatType {'pub', 'coffee shop', 'restaurant'}\n",
      "area {'city centre', 'riverside'}\n",
      "customer rating {'high', '3 out of 5', '5 out of 5', 'average', 'low', '1 out of 5'}\n",
      "near {'Crowne Plaza Hotel', 'Express by Holiday Inn', 'Raja Indian Cuisine', 'Burger King', 'The Rice Boat', 'Ranch', 'The Sorrento', 'Café Sicilia', 'The Bakers', 'Rainbow Vegetarian Café', 'All Bar One', 'Avalon', 'Café Rouge'}\n",
      "food {'English', 'Italian', 'Japanese', 'French', 'Fast food', 'Chinese', 'Indian'}\n",
      "familyFriendly {'no', 'yes'}\n",
      "priceRange {'less than £20', 'high', 'cheap', 'moderate', '£20-25', 'more than £30'}\n"
     ]
    }
   ],
   "source": [
    "for k, v in typ_list.items():\n",
    "    print(k, v)"
   ]
  },
  {
   "cell_type": "code",
   "execution_count": 57,
   "metadata": {},
   "outputs": [],
   "source": []
  },
  {
   "cell_type": "code",
   "execution_count": 91,
   "metadata": {},
   "outputs": [
    {
     "name": "stdout",
     "output_type": "stream",
     "text": [
      "Green Man 0.8759932518005371\n",
      "The Mill 0.8806518912315369\n",
      "The Plough 0.8600329756736755\n",
      "The Vaults 0.8975980281829834\n",
      "Blue Spice 0.8518051505088806\n",
      "Zizzi 0.8148564696311951\n",
      "The Cricketers 0.8490865230560303\n",
      "Cotto 0.8604665994644165\n",
      "The Punter 0.8699408769607544\n",
      "Strada 0.8372035026550293\n",
      "Cocum 0.8478741645812988\n",
      "The Waterman 0.8394536375999451\n",
      "The Wrestlers 0.8739649653434753\n",
      "Giraffe 0.858993411064148\n",
      "Loch Fyne 0.8448023200035095\n",
      "The Phoenix 0.8783962726593018\n",
      "Wildwood 0.8554384112358093\n",
      "Clowns 0.8750399947166443\n"
     ]
    }
   ],
   "source": [
    "best_score = 0 \n",
    "for v in typ_list['name']:\n",
    "    score = scorer.score([name], [v])[2].item()\n",
    "    print(v, score)\n",
    "    if score > best_score:\n",
    "        best_score = score\n",
    "        placeholder_name = v\n",
    "#         print(placeholder_name)"
   ]
  },
  {
   "cell_type": "code",
   "execution_count": 89,
   "metadata": {},
   "outputs": [
    {
     "data": {
      "text/plain": [
       "'The cold'"
      ]
     },
     "execution_count": 89,
     "metadata": {},
     "output_type": "execute_result"
    }
   ],
   "source": [
    "name"
   ]
  },
  {
   "cell_type": "code",
   "execution_count": null,
   "metadata": {},
   "outputs": [],
   "source": []
  }
 ],
 "metadata": {
  "kernelspec": {
   "display_name": "Python 3",
   "language": "python",
   "name": "python3"
  },
  "language_info": {
   "codemirror_mode": {
    "name": "ipython",
    "version": 3
   },
   "file_extension": ".py",
   "mimetype": "text/x-python",
   "name": "python",
   "nbconvert_exporter": "python",
   "pygments_lexer": "ipython3",
   "version": "3.7.7"
  }
 },
 "nbformat": 4,
 "nbformat_minor": 4
}
