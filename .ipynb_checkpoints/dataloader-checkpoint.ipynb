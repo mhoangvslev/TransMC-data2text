{
 "cells": [
  {
   "cell_type": "code",
   "execution_count": 13,
   "metadata": {},
   "outputs": [],
   "source": [
    "import csv\n",
    "f = open('dataset/trainset.csv', 'r')\n",
    "# f = open('e2e-dataset/testset_w_refs.csv', 'r')\n",
    "r = csv.reader(f)\n",
    "\n",
    "cond = []\n",
    "sentence = []\n",
    "for line in r:\n",
    "    cond.append(line[0])\n",
    "    sentence.append(line[1])    \n",
    "    \n",
    "typ_list = {}\n",
    "for k in range(1, len(cond)):\n",
    "    cond_set=cond[k].split(',')\n",
    "    for m in range(len(cond_set)):\n",
    "        cond_set[m] = cond_set[m].strip()\n",
    "        pos = cond_set[m].index('[')\n",
    "        if cond_set[m][:pos] in typ_list.keys():\n",
    "            typ_list[cond_set[m][:pos]].add(cond_set[m][pos+1:-1])\n",
    "        else:            \n",
    "            typ_list[cond_set[m][:pos]] = {cond_set[m][pos+1:-1]}\n",
    "            \n",
    "#     print(k, typ_list)    "
   ]
  },
  {
   "cell_type": "code",
   "execution_count": 3,
   "metadata": {},
   "outputs": [
    {
     "data": {
      "text/plain": [
       "('name[The Rice Boat], food[English], priceRange[less than £20], customer rating[low], area[riverside], familyFriendly[yes], near[Express by Holiday Inn]',\n",
       " 'The family friendly The Rice Boat is located on the riverside, near the Express by Holiday Inn, serving English cuisine below £20 with a customer rating.')"
      ]
     },
     "execution_count": 3,
     "metadata": {},
     "output_type": "execute_result"
    }
   ],
   "source": [
    "cond[2106], sentence[2106]"
   ]
  },
  {
   "cell_type": "code",
   "execution_count": null,
   "metadata": {},
   "outputs": [],
   "source": [
    "import pandas as pd\n",
    "x=pd.read_csv('dataset/testset_w_refs.csv')\n",
    "x"
   ]
  },
  {
   "cell_type": "code",
   "execution_count": 51,
   "metadata": {},
   "outputs": [
    {
     "data": {
      "text/plain": [
       "'name[Blue Spice], eatType[coffee shop], area[city centre]'"
      ]
     },
     "execution_count": 51,
     "metadata": {},
     "output_type": "execute_result"
    }
   ],
   "source": [
    "# x.columns, x['mr'][0], x['ref'][0]\n",
    "x['mr'][0]"
   ]
  },
  {
   "cell_type": "code",
   "execution_count": 14,
   "metadata": {},
   "outputs": [
    {
     "name": "stdout",
     "output_type": "stream",
     "text": [
      "name {'The Golden Curry', 'Alimentum', 'Travellers Rest Beefeater', 'The Olive Grove', 'The Mill', 'Giraffe', 'Strada', 'The Cambridge Blue', 'Browns Cambridge', 'Cocum', 'Zizzi', 'Green Man', 'Taste of Cambridge', 'The Wrestlers', 'The Twenty Two', 'Loch Fyne', 'Fitzbillies', 'The Rice Boat', 'The Waterman', 'Wildwood', 'The Eagle', 'Clowns', 'The Phoenix', 'The Dumpling Tree', 'Aromi', 'Bibimbap House', 'The Plough', 'The Vaults', 'Blue Spice', 'The Punter', 'Midsummer House', 'The Golden Palace', 'Cotto', 'The Cricketers'}\n",
      "eatType {'coffee shop', 'pub', 'restaurant'}\n",
      "priceRange {'more than £30', 'cheap', 'less than £20', 'moderate', 'high', '£20-25'}\n",
      "customer rating {'average', 'low', '5 out of 5', '3 out of 5', '1 out of 5', 'high'}\n",
      "near {'Clare Hall', 'Burger King', 'Ranch', 'Café Brazil', 'Rainbow Vegetarian Café', 'The Six Bells', 'Café Sicilia', 'Yippee Noodle Bar', 'All Bar One', 'The Rice Boat', 'Café Rouge', 'Avalon', 'Express by Holiday Inn', 'Café Adriatic', 'Crowne Plaza Hotel', 'Raja Indian Cuisine', 'The Bakers', 'The Portland Arms', 'The Sorrento'}\n",
      "food {'Chinese', 'English', 'Indian', 'Fast food', 'Italian', 'French', 'Japanese'}\n",
      "area {'city centre', 'riverside'}\n",
      "familyFriendly {'no', 'yes'}\n"
     ]
    }
   ],
   "source": [
    "for k, v in typ_list.items():\n",
    "    print(k,v)"
   ]
  },
  {
   "cell_type": "markdown",
   "metadata": {},
   "source": [
    "## Dataloader"
   ]
  },
  {
   "cell_type": "code",
   "execution_count": 2,
   "metadata": {},
   "outputs": [],
   "source": [
    "from torch.utils.data import Dataset, DataLoader\n",
    "import pandas as pd"
   ]
  },
  {
   "cell_type": "code",
   "execution_count": 3,
   "metadata": {},
   "outputs": [],
   "source": [
    "class e2eDataset(Dataset):\n",
    "    def __init__(self, csv_file):\n",
    "        \"\"\"\n",
    "        Args:\n",
    "            csv_file (string): csv 파일의 경로\n",
    "        \"\"\"\n",
    "        self.dataset = pd.read_csv(csv_file)\n",
    "        self.columns = self.dataset.columns\n",
    "        self.conditions = self.dataset[self.columns[0]]\n",
    "        self.sentences = self.dataset[self.columns[1]]\n",
    "        \n",
    "        self.typ_list = {}\n",
    "        for k in range(len(self.conditions)):\n",
    "            cond_set = self.conditions[k].split(',')\n",
    "            for m in range(len(cond_set)):\n",
    "                cond_set[m] = cond_set[m].strip()\n",
    "                pos = cond_set[m].index('[')\n",
    "                if cond_set[m][:pos] in self.typ_list.keys():\n",
    "                    self.typ_list[cond_set[m][:pos]].add(cond_set[m][pos+1:-1])\n",
    "                else:            \n",
    "                    self.typ_list[cond_set[m][:pos]] = {cond_set[m][pos+1:-1]}        \n",
    "\n",
    "    def __len__(self):\n",
    "        return len(self.conditions)\n",
    "\n",
    "    def __getitem__(self, idx):\n",
    "        cond = self.conditions[idx]\n",
    "        sen = self.sentences[idx]\n",
    "\n",
    "        return cond, sen"
   ]
  },
  {
   "cell_type": "code",
   "execution_count": 4,
   "metadata": {},
   "outputs": [],
   "source": [
    "e2e_dataset = e2eDataset(csv_file='dataset/trainset.csv')"
   ]
  },
  {
   "cell_type": "code",
   "execution_count": 5,
   "metadata": {},
   "outputs": [
    {
     "data": {
      "text/plain": [
       "(('name[The Vaults], eatType[pub], priceRange[more than £30], customer rating[5 out of 5], near[Café Adriatic]',\n",
       "  'The Vaults pub near Café Adriatic has a 5 star rating.  Prices start at £30.'),\n",
       " {'name': {'Alimentum',\n",
       "   'Aromi',\n",
       "   'Bibimbap House',\n",
       "   'Blue Spice',\n",
       "   'Browns Cambridge',\n",
       "   'Clowns',\n",
       "   'Cocum',\n",
       "   'Cotto',\n",
       "   'Fitzbillies',\n",
       "   'Giraffe',\n",
       "   'Green Man',\n",
       "   'Loch Fyne',\n",
       "   'Midsummer House',\n",
       "   'Strada',\n",
       "   'Taste of Cambridge',\n",
       "   'The Cambridge Blue',\n",
       "   'The Cricketers',\n",
       "   'The Dumpling Tree',\n",
       "   'The Eagle',\n",
       "   'The Golden Curry',\n",
       "   'The Golden Palace',\n",
       "   'The Mill',\n",
       "   'The Olive Grove',\n",
       "   'The Phoenix',\n",
       "   'The Plough',\n",
       "   'The Punter',\n",
       "   'The Rice Boat',\n",
       "   'The Twenty Two',\n",
       "   'The Vaults',\n",
       "   'The Waterman',\n",
       "   'The Wrestlers',\n",
       "   'Travellers Rest Beefeater',\n",
       "   'Wildwood',\n",
       "   'Zizzi'},\n",
       "  'eatType': {'coffee shop', 'pub', 'restaurant'},\n",
       "  'priceRange': {'cheap',\n",
       "   'high',\n",
       "   'less than £20',\n",
       "   'moderate',\n",
       "   'more than £30',\n",
       "   '£20-25'},\n",
       "  'customer rating': {'1 out of 5',\n",
       "   '3 out of 5',\n",
       "   '5 out of 5',\n",
       "   'average',\n",
       "   'high',\n",
       "   'low'},\n",
       "  'near': {'All Bar One',\n",
       "   'Avalon',\n",
       "   'Burger King',\n",
       "   'Café Adriatic',\n",
       "   'Café Brazil',\n",
       "   'Café Rouge',\n",
       "   'Café Sicilia',\n",
       "   'Clare Hall',\n",
       "   'Crowne Plaza Hotel',\n",
       "   'Express by Holiday Inn',\n",
       "   'Rainbow Vegetarian Café',\n",
       "   'Raja Indian Cuisine',\n",
       "   'Ranch',\n",
       "   'The Bakers',\n",
       "   'The Portland Arms',\n",
       "   'The Rice Boat',\n",
       "   'The Six Bells',\n",
       "   'The Sorrento',\n",
       "   'Yippee Noodle Bar'},\n",
       "  'food': {'Chinese',\n",
       "   'English',\n",
       "   'Fast food',\n",
       "   'French',\n",
       "   'Indian',\n",
       "   'Italian',\n",
       "   'Japanese'},\n",
       "  'area': {'city centre', 'riverside'},\n",
       "  'familyFriendly': {'no', 'yes'}})"
      ]
     },
     "execution_count": 5,
     "metadata": {},
     "output_type": "execute_result"
    }
   ],
   "source": [
    "e2e_dataset[0], e2e_dataset.typ_list"
   ]
  },
  {
   "cell_type": "code",
   "execution_count": 12,
   "metadata": {},
   "outputs": [],
   "source": [
    "dataloader = DataLoader(e2e_dataset, batch_size=1, shuffle=True, num_workers=4)\n",
    "from model import *\n",
    "my_model = mymodel()\n",
    "my_model.eval()\n",
    "my_model.load_state_dict(torch.load('./gen_model/final/model'))\n",
    "print('ok')"
   ]
  },
  {
   "cell_type": "code",
   "execution_count": 29,
   "metadata": {},
   "outputs": [
    {
     "name": "stdout",
     "output_type": "stream",
     "text": [
      "[0, 1, 2, 4, 6]\n",
      "[0, 1, 2, 3, 5, 6, 7]\n",
      "[0, 3, 4, 6, 7]\n",
      "[0, 1, 2, 3, 5, 6]\n",
      "[0, 1, 2, 3, 4, 5, 6]\n",
      "[0, 1, 2, 4, 6, 7]\n",
      "[0, 2, 4, 5, 6, 7]\n",
      "[0, 2, 3, 4, 5, 6]\n",
      "[0, 2, 6]\n",
      "[0, 2, 3, 4, 7]\n",
      "[0, 2, 5, 6, 7]\n",
      "[0, 1, 2, 3, 5, 6]\n",
      "[0, 2, 4, 5, 6]\n",
      "[0, 2, 5, 6]\n",
      "[0, 2, 4, 5]\n",
      "[0, 2, 3, 4, 5, 7]\n",
      "[0, 2, 4, 6]\n",
      "[0, 1, 2, 3, 4, 5, 7]\n",
      "[0, 1, 2, 3, 5, 6]\n",
      "[0, 2, 3, 6]\n",
      "[0, 2, 4, 5, 7]\n",
      "[0, 1, 2, 3, 5, 6]\n",
      "[0, 2, 3, 5, 6]\n",
      "[0, 2, 3, 4, 6]\n",
      "[0, 1, 3, 4, 5, 6, 7]\n",
      "[0, 2, 3, 4]\n",
      "[0, 2, 3, 6, 7]\n",
      "[0, 1, 2, 3, 4, 5, 7]\n",
      "[0, 1, 2, 3, 4, 6, 7]\n",
      "[0, 3, 4, 5, 6]\n",
      "[0, 1, 2, 3, 4, 6]\n",
      "[0, 2, 3, 4, 5]\n",
      "[0, 1, 2, 3, 5, 6, 7]\n",
      "[0, 2, 7]\n",
      "[0, 1, 2, 3, 4, 5, 6, 7]\n",
      "[0, 2, 4, 6]\n",
      "[0, 1, 3, 5, 6]\n",
      "[0, 1, 2, 3, 5, 6]\n",
      "[0, 1, 2, 3, 5]\n",
      "[0, 2, 3, 4, 6, 7]\n",
      "[0, 2, 4, 5, 6]\n",
      "[0, 1, 2, 4, 6]\n",
      "[0, 1, 3, 4, 5, 6]\n",
      "[0, 2, 3, 5, 7]\n",
      "[0, 2, 4, 5, 6, 7]\n",
      "[0, 1, 3, 4, 5, 6]\n",
      "[0, 1, 2, 4, 5]\n",
      "[0, 2, 3, 5, 6]\n",
      "[0, 2, 3, 4, 5, 6, 7]\n",
      "[0, 1, 4, 6, 7]\n",
      "[0, 3, 4]\n",
      "[0, 3, 6, 7]\n",
      "[0, 2, 4, 5, 7]\n",
      "[0, 1, 2, 4, 5, 7]\n",
      "[0, 3, 5, 6]\n",
      "[0, 2, 6]\n",
      "[0, 2, 4, 5, 7]\n",
      "[0, 1, 2, 3, 4, 6, 7]\n",
      "[0, 1, 2, 3, 6]\n",
      "[0, 1, 3, 4, 6]\n",
      "[0, 2, 3, 4, 5, 6, 7]\n",
      "[0, 2, 4, 5, 6, 7]\n",
      "[0, 2, 3, 4, 5, 6]\n",
      "[0, 1, 4, 6]\n",
      "[0, 2, 5, 7]\n",
      "[0, 2, 3, 5, 7]\n",
      "[0, 1, 2, 5, 6]\n",
      "[0, 1, 2, 4, 5, 6]\n",
      "[0, 2, 3, 4, 5, 6, 7]\n",
      "[0, 1, 2, 4, 7]\n",
      "[0, 2, 4, 6, 7]\n",
      "[0, 2, 4, 5, 6, 7]\n",
      "[0, 2, 5]\n",
      "[0, 1, 2, 4, 5, 6, 7]\n",
      "[0, 1, 2, 3, 4]\n",
      "[0, 2, 3, 4, 5, 6, 7]\n",
      "[0, 1, 2, 4, 7]\n",
      "[0, 2, 3, 6]\n",
      "[0, 2, 5, 6]\n",
      "[0, 1, 2, 3, 4]\n",
      "[0, 2, 3, 4, 5, 6]\n",
      "[0, 2, 3, 4, 5, 6, 7]\n",
      "[0, 2, 3, 5, 6]\n",
      "[0, 1, 2, 3, 5, 6, 7]\n",
      "[0, 2, 3, 4, 5, 6, 7]\n",
      "[0, 1, 2, 4, 6, 7]\n",
      "[0, 2, 4, 5, 6]\n",
      "[0, 1, 2, 3, 4, 5]\n",
      "[0, 1, 2, 4, 5, 6, 7]\n",
      "[0, 2, 3, 7]\n",
      "[0, 1, 3, 4, 5, 6, 7]\n",
      "[0, 2, 3, 4, 5, 7]\n",
      "[0, 2, 4, 6, 7]\n",
      "[0, 1, 2, 3, 5, 7]\n",
      "[0, 1, 2, 3, 5, 6]\n",
      "[0, 3, 4, 6]\n",
      "[0, 1, 2, 3, 5, 7]\n",
      "[0, 1, 2, 4, 5, 6, 7]\n",
      "[0, 2, 3, 6, 7]\n",
      "[0, 1, 2, 3, 4, 7]\n",
      "[0, 3, 4, 5, 7]\n"
     ]
    }
   ],
   "source": [
    "x = [50258, 50259, 50263, 50260, 50261, 50264, 50265, 50262]\n",
    "for i_batch, sample_batched in enumerate(dataloader):    \n",
    "    cond = sample_batched[0][0]\n",
    "    cond_set = cond.split(',')\n",
    "    condition_string = ''\n",
    "    \n",
    "    for m in range(len(cond_set)):\n",
    "        cond_set[m] = cond_set[m].strip()\n",
    "        pos = cond_set[m].index('[')\n",
    "\n",
    "        condition_string += '<' + cond_set[m][:pos] + '> '\n",
    "    \n",
    "    con_list = my_model.tokenizer.encode(condition_string.strip())\n",
    "    \n",
    "    out = []\n",
    "    for k in range(len(con_list)):\n",
    "        out.append(x.index(con_list[k]))\n",
    "    print(out)\n",
    "    assert out == sorted(out)\n",
    "    if i_batch == 100:\n",
    "        break"
   ]
  },
  {
   "cell_type": "code",
   "execution_count": 27,
   "metadata": {},
   "outputs": [
    {
     "data": {
      "text/plain": [
       "([1, 6, 3, 4, 5], [1, 3, 4, 5, 6])"
      ]
     },
     "execution_count": 27,
     "metadata": {},
     "output_type": "execute_result"
    }
   ],
   "source": [
    "out, sorted(out)"
   ]
  },
  {
   "cell_type": "code",
   "execution_count": 25,
   "metadata": {},
   "outputs": [],
   "source": [
    "out=[1,6,3,4,5]"
   ]
  },
  {
   "cell_type": "code",
   "execution_count": null,
   "metadata": {},
   "outputs": [],
   "source": []
  },
  {
   "cell_type": "code",
   "execution_count": null,
   "metadata": {},
   "outputs": [],
   "source": []
  },
  {
   "cell_type": "code",
   "execution_count": null,
   "metadata": {},
   "outputs": [],
   "source": []
  },
  {
   "cell_type": "markdown",
   "metadata": {},
   "source": [
    "## Half dataset"
   ]
  },
  {
   "cell_type": "code",
   "execution_count": 35,
   "metadata": {},
   "outputs": [],
   "source": [
    "import pandas as pd\n",
    "import random\n",
    "from torch.utils.data import Dataset, DataLoader\n",
    "class e2eDataset(Dataset):\n",
    "    def __init__(self, csv_file1, csv_file2):\n",
    "        \"\"\"\n",
    "        Args:\n",
    "            csv_file (string): csv 파일의 경로\n",
    "        \"\"\"\n",
    "        self.dataset1 = pd.read_csv(csv_file1)\n",
    "        self.dataset2 = pd.read_csv(csv_file2)\n",
    "        \n",
    "        self.columns1 = self.dataset1.columns\n",
    "        self.columns2 = self.dataset2.columns\n",
    "        \n",
    "        self.conditions = list(self.dataset1[self.columns1[0]]) + list(self.dataset2[self.columns2[0]])\n",
    "        self.sentences = list(self.dataset1[self.columns1[1]]) + list(self.dataset2[self.columns2[1]])\n",
    "        \n",
    "        self.typ_list = {}\n",
    "        for k in range(len(self.conditions)):\n",
    "            cond_set = self.conditions[k].split(',')\n",
    "            for m in range(len(cond_set)):\n",
    "                cond_set[m] = cond_set[m].strip()\n",
    "                pos = cond_set[m].index('[')\n",
    "                if cond_set[m][:pos] in self.typ_list.keys():\n",
    "                    self.typ_list[cond_set[m][:pos]].add(cond_set[m][pos+1:-1])\n",
    "                else:            \n",
    "                    self.typ_list[cond_set[m][:pos]] = {cond_set[m][pos+1:-1]}\n",
    "                    \n",
    "        k = 0\n",
    "        sample_order = []\n",
    "        for _ in range(len(self.conditions)):\n",
    "            sample_order.append(k)\n",
    "            k += 1\n",
    "        ran_num = random.sample(sample_order, int(len(self.conditions)/2))\n",
    "        self.conditions_sample = [self.conditions[t] for t in ran_num]\n",
    "        self.sentences_sample = [self.sentences[t] for t in ran_num]                  \n",
    "\n",
    "    def __len__(self):\n",
    "        return len(self.conditions_sample)\n",
    "\n",
    "    def __getitem__(self, idx):\n",
    "        cond = self.conditions_sample[idx]\n",
    "        cond_set = cond.split(',')\n",
    "        condition_string = ''\n",
    "        for m in range(len(cond_set)):\n",
    "            cond_set[m] = cond_set[m].strip()\n",
    "            pos = cond_set[m].index('[')\n",
    "            \n",
    "            condition_string += '<' + cond_set[m][:pos] + '>' + cond_set[m][pos+1:-1] + ' '\n",
    "        \n",
    "        sen = self.sentences_sample[idx]\n",
    "\n",
    "        return sen"
   ]
  },
  {
   "cell_type": "code",
   "execution_count": 36,
   "metadata": {},
   "outputs": [],
   "source": [
    "e2e_dataset = e2eDataset(csv_file1='dataset/trainset.csv', csv_file2='dataset/devset.csv')\n",
    "dataloader = DataLoader(e2e_dataset, batch_size=1, shuffle=True, num_workers=4)    "
   ]
  },
  {
   "cell_type": "code",
   "execution_count": 38,
   "metadata": {},
   "outputs": [
    {
     "data": {
      "text/plain": [
       "(46733, 23366, 23366)"
      ]
     },
     "execution_count": 38,
     "metadata": {},
     "output_type": "execute_result"
    }
   ],
   "source": [
    "len(e2e_dataset.conditions), len(e2e_dataset.conditions_sample), len(e2e_dataset)"
   ]
  },
  {
   "cell_type": "code",
   "execution_count": null,
   "metadata": {},
   "outputs": [],
   "source": [
    "import random\n",
    "x1 = [11,22,33,44,55,66]\n",
    "x2 = [111,222,333,444,555,666]\n",
    "k = 0\n",
    "li = []\n",
    "for _ in range(len(x1)):\n",
    "    li.append(k)\n",
    "    k += 1\n",
    "ran_num = random.sample(li, int(len(x1)/2))\n",
    "sample_x1 = [x1[t] for t in ran_num]\n",
    "sample_x2 = [x2[t] for t in ran_num]\n",
    "sample_x1, sample_x2"
   ]
  },
  {
   "cell_type": "code",
   "execution_count": null,
   "metadata": {},
   "outputs": [],
   "source": []
  },
  {
   "cell_type": "markdown",
   "metadata": {},
   "source": [
    "## Percentage check"
   ]
  },
  {
   "cell_type": "code",
   "execution_count": 14,
   "metadata": {},
   "outputs": [
    {
     "name": "stdout",
     "output_type": "stream",
     "text": [
      "0 more than £30 ### the vaults pub near café adriatic has a 5 star rating.  prices start at £30.\n",
      "0 5 out of 5 ### the vaults pub near café adriatic has a 5 star rating.  prices start at £30.\n",
      "1 english ### close to café brazil, the cambridge blue pub serves delicious tuscan beef for the cheap price of £10.50. delicious pub food.\n",
      "3 £20-25 ### located near the sorrento is a french theme eatery and coffee shop called the mill, with a price range at £20-£25 it is in the riverside area.\n",
      "4 high ### for luxurious french food, the loch fyne is located by the river next to the rice boat.\n",
      "4 riverside ### for luxurious french food, the loch fyne is located by the river next to the rice boat.\n",
      "6 average ### the rice boat is an adult french restaurant with high customer rating  located in the riverside area.\n",
      "12 £20-25 ### taste of cambridge is a restaurant with a customer rating of 3 out of 5 and and a price range of £20-£25\n",
      "13 cheap ### for a family-friendly coffee shop cocum can serve you italian food at affordable prices.  the customer rating however is only average.\n",
      "16 english ### the golden curry, a 5-star family friendly breakfast joint near the café rouge and near the river.\n",
      "16 5 out of 5 ### the golden curry, a 5-star family friendly breakfast joint near the café rouge and near the river.\n",
      "16 riverside ### the golden curry, a 5-star family friendly breakfast joint near the café rouge and near the river.\n",
      "17 1 out of 5 ### the phoenix is located in the city centre. it offers english food, has a high price range, and a customer rating of one out of five.\n",
      "18 £20-25 ### yippee noodle bar, near the alimentum city centre is a fast food place with high customer rating, and has a price range of 20-25 euros\n",
      "19 1 out of 5 ### the eagle is a restaurant that offers chinese food though with a poor rating\n",
      "0.14563106796116504\n",
      "0.0002615249280806448\n"
     ]
    }
   ],
   "source": [
    "import csv\n",
    "import pandas as pd\n",
    "# csv_file=\"/data/private/E2E/dataset/testset_w_refs.csv\"\n",
    "csv_file=\"/data/private/E2E/dataset/trainset.csv\"\n",
    "dataset = pd.read_csv(csv_file)\n",
    "columns = dataset.columns\n",
    "conditions = dataset[columns[0]]\n",
    "refs = dataset[columns[1]]\n",
    "\n",
    "incomplte_num = 0\n",
    "total_value_num = 0\n",
    "not_include_count  = 0\n",
    "# for ind in range(len(conditions)):\n",
    "for ind in range(20):\n",
    "    cond_dict = {}\n",
    "    cond_set = conditions[ind].split(',')\n",
    "    \n",
    "    for m in range(len(cond_set)):\n",
    "        cond_set[m] = cond_set[m].strip()\n",
    "        pos = cond_set[m].index('[')\n",
    "        cond_dict[cond_set[m][:pos]] = (cond_set[m][pos+1:-1])    \n",
    "        \n",
    "    num = len(cond_dict)\n",
    "    total_value_num += num\n",
    "    \n",
    "    sentence_temp = refs[ind]\n",
    "    \n",
    "    for k, v in cond_dict.items():\n",
    "        if k != 'familyFriendly':\n",
    "            if v.lower() not in sentence_temp.strip().lower():\n",
    "                not_include_count += 1\n",
    "                print(ind, v.lower(), '###', sentence_temp.strip().lower())\n",
    "            \n",
    "    for k, v in cond_dict.items():\n",
    "        if k != 'familyFriendly':\n",
    "            if v.lower() not in sentence_temp.strip().lower():\n",
    "                incomplte_num += 1\n",
    "                break\n",
    "                \n",
    "print(not_include_count/total_value_num)\n",
    "print(incomplte_num/len(conditions))"
   ]
  },
  {
   "cell_type": "code",
   "execution_count": 6,
   "metadata": {},
   "outputs": [
    {
     "data": {
      "text/plain": [
       "32332"
      ]
     },
     "execution_count": 6,
     "metadata": {},
     "output_type": "execute_result"
    }
   ],
   "source": [
    "# train\n",
    "0.15221699281644785\n",
    "0.474525094505599\n",
    "\n",
    "# test\n",
    "0.11579858963256216\n",
    "0.4528020455998295"
   ]
  },
  {
   "cell_type": "code",
   "execution_count": 10,
   "metadata": {},
   "outputs": [
    {
     "data": {
      "text/plain": [
       "('£20-25',\n",
       " 'located near the sorrento is a french theme eatery and coffee shop called the mill, with a price range at £20-£25 it is in the riverside area.')"
      ]
     },
     "execution_count": 10,
     "metadata": {},
     "output_type": "execute_result"
    }
   ],
   "source": [
    "v.lower(), sentence_temp.strip().lower()"
   ]
  },
  {
   "cell_type": "code",
   "execution_count": 13,
   "metadata": {},
   "outputs": [
    {
     "data": {
      "text/plain": [
       "False"
      ]
     },
     "execution_count": 13,
     "metadata": {},
     "output_type": "execute_result"
    }
   ],
   "source": [
    "'£20-25' in sentence_temp.strip().lower()"
   ]
  },
  {
   "cell_type": "markdown",
   "metadata": {},
   "source": [
    "## Review no-pretrained vs pretrained"
   ]
  },
  {
   "cell_type": "code",
   "execution_count": 34,
   "metadata": {},
   "outputs": [],
   "source": [
    "f_test = open('dataset/f_test.txt')\n",
    "golds = f_test.readlines()\n",
    "f_test.close()\n",
    "\n",
    "f_no = open('predictions/no_pretrained/try_1/f_pred_6.txt')\n",
    "no = f_no.readlines()\n",
    "f_no.close()\n",
    "\n",
    "f_yes= open('predictions/final/final_model.txt')\n",
    "yes = f_yes.readlines()\n",
    "f_yes.close()"
   ]
  },
  {
   "cell_type": "code",
   "execution_count": 35,
   "metadata": {},
   "outputs": [],
   "source": [
    "humans = []\n",
    "human = []\n",
    "for gold in golds:    \n",
    "    if gold != '\\n':\n",
    "        human.append(gold.strip())\n",
    "    else:\n",
    "        humans.append(human)\n",
    "        human = []\n",
    "humans.append(human)"
   ]
  },
  {
   "cell_type": "code",
   "execution_count": 36,
   "metadata": {},
   "outputs": [],
   "source": [
    "import pandas as pd\n",
    "csv_file=\"dataset/testset_w_refs.csv\"\n",
    "dataset = pd.read_csv(csv_file)\n",
    "columns = dataset.columns\n",
    "conditions = dataset[columns[0]]\n",
    "refs = dataset[columns[1]]\n",
    "\n",
    "humans_c = []\n",
    "pre_condition = ''\n",
    "for condition in conditions:\n",
    "    if condition != pre_condition:\n",
    "        humans_c.append(condition)\n",
    "    pre_condition = condition\n",
    "humans_c.append(condition)\n",
    "humans_c = humans_c[1:]"
   ]
  },
  {
   "cell_type": "code",
   "execution_count": 37,
   "metadata": {},
   "outputs": [
    {
     "name": "stdout",
     "output_type": "stream",
     "text": [
      "condition ### name[Clowns], eatType[pub], near[The Sorrento]\n",
      "\n",
      "humans ### The pub Clowns that is near Crowne Plaza Hotel has ratings of 5 out of 5.\n",
      "humans ### Crowne Plaza Hotel is a popular pub in Clowns.\n",
      "humans ### The pub Clowns is near Crowne Plaza Hotel and has a customer rating of 5 out of 5.\n",
      "humans ### Near Crowne Plaza Hotel is a pub named Clowns that proudly boasts a high customer rating of 5 out of 5.\n",
      "humans ### Found near Crowne Plaza Hotel, Clowns is a pub with a customer rating of 5 out of 5.\n",
      "humans ### Crowne Plaza Hotel is a pub in Clowns with a rating 5 out of 5.\n",
      "humans ### 5 out of 5 rated Clowns pub is located near Crowne Plaza Hotel.\n",
      "humans ### Near Crowne Plaza Hotel there is a pub with a 5 out of 5 rating.  It's called Clowns.\n",
      "humans ### Located near Crowne Plaza Hotel, The Clowns pub has a customer rating of 5 out of 5.\n",
      "humans ### The pub Clowns is near Crowne Plaza Hotel and has a customer rating of 5 out of 5.\n",
      "humans ### For a pub with a 5 out of 5 rating, check out Clowns near Crowne Plaza Hotel.\n",
      "\n",
      "no ### Clowns is a pub near the Crowne Plaza Hotel with a customer rating of 5 out of 5.\n",
      "\n",
      "yes ### Clowns is a pub near Crowne Plaza Hotel with a customer rating of 5 out of 5.\n"
     ]
    }
   ],
   "source": [
    "k = 30\n",
    "print(\"condition ###\", humans_c[k])\n",
    "print('')\n",
    "for hum in humans[k]:\n",
    "    print('humans ###', hum)\n",
    "print('')\n",
    "print('no ###', no[k].strip())\n",
    "print('')\n",
    "print('yes ###', yes[k].strip())"
   ]
  },
  {
   "cell_type": "code",
   "execution_count": 38,
   "metadata": {},
   "outputs": [],
   "source": [
    "prices = list(typ_list['priceRange'])"
   ]
  },
  {
   "cell_type": "code",
   "execution_count": null,
   "metadata": {},
   "outputs": [],
   "source": [
    "for i, human in enumerate(humans):\n",
    "    cond = humans_c[i]\n",
    "    for hum in human:\n",
    "        for area in areas:\n",
    "            if 'The Rice Boat' in hum:# and area in hum:\n",
    "                print(cond)\n",
    "                print(area, '###', hum)\n",
    "                print('')"
   ]
  },
  {
   "cell_type": "code",
   "execution_count": 46,
   "metadata": {},
   "outputs": [
    {
     "data": {
      "text/plain": [
       "'There is a pub  called Zizzi located near The Sorrento.'"
      ]
     },
     "execution_count": 46,
     "metadata": {},
     "output_type": "execute_result"
    }
   ],
   "source": [
    "hum"
   ]
  },
  {
   "cell_type": "code",
   "execution_count": 42,
   "metadata": {},
   "outputs": [
    {
     "data": {
      "text/plain": [
       "{'Alimentum',\n",
       " 'Aromi',\n",
       " 'Bibimbap House',\n",
       " 'Blue Spice',\n",
       " 'Browns Cambridge',\n",
       " 'Clowns',\n",
       " 'Cocum',\n",
       " 'Cotto',\n",
       " 'Fitzbillies',\n",
       " 'Giraffe',\n",
       " 'Green Man',\n",
       " 'Loch Fyne',\n",
       " 'Midsummer House',\n",
       " 'Strada',\n",
       " 'Taste of Cambridge',\n",
       " 'The Cambridge Blue',\n",
       " 'The Cricketers',\n",
       " 'The Dumpling Tree',\n",
       " 'The Eagle',\n",
       " 'The Golden Curry',\n",
       " 'The Golden Palace',\n",
       " 'The Mill',\n",
       " 'The Olive Grove',\n",
       " 'The Phoenix',\n",
       " 'The Plough',\n",
       " 'The Punter',\n",
       " 'The Rice Boat',\n",
       " 'The Twenty Two',\n",
       " 'The Vaults',\n",
       " 'The Waterman',\n",
       " 'The Wrestlers',\n",
       " 'Travellers Rest Beefeater',\n",
       " 'Wildwood',\n",
       " 'Zizzi'}"
      ]
     },
     "execution_count": 42,
     "metadata": {},
     "output_type": "execute_result"
    }
   ],
   "source": [
    "typ_list['name']"
   ]
  },
  {
   "cell_type": "code",
   "execution_count": 43,
   "metadata": {},
   "outputs": [
    {
     "data": {
      "text/plain": [
       "dict_keys(['name', 'eatType', 'priceRange', 'customer rating', 'near', 'food', 'area', 'familyFriendly'])"
      ]
     },
     "execution_count": 43,
     "metadata": {},
     "output_type": "execute_result"
    }
   ],
   "source": [
    "typ_list.keys()"
   ]
  },
  {
   "cell_type": "code",
   "execution_count": null,
   "metadata": {},
   "outputs": [],
   "source": []
  }
 ],
 "metadata": {
  "kernelspec": {
   "display_name": "Python 3",
   "language": "python",
   "name": "python3"
  },
  "language_info": {
   "codemirror_mode": {
    "name": "ipython",
    "version": 3
   },
   "file_extension": ".py",
   "mimetype": "text/x-python",
   "name": "python",
   "nbconvert_exporter": "python",
   "pygments_lexer": "ipython3",
   "version": "3.7.7"
  }
 },
 "nbformat": 4,
 "nbformat_minor": 4
}
