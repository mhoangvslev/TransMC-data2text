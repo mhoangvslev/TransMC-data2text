{
 "cells": [
  {
   "cell_type": "code",
   "execution_count": 2,
   "metadata": {},
   "outputs": [],
   "source": [
    "myf = open('/data/private/E2E/predictions/final/final_model.txt')\n",
    "tgenf = open('/data/private/E2E/compared_system/tgen.txt')\n",
    "slugf = open('/data/private/E2E/compared_system/tgen.txt')\n",
    "\n",
    "our = myf.readlines()\n",
    "tgen = tgenf.readlines()\n",
    "slug = slugf.readlines()\n",
    "\n",
    "myf.close()\n",
    "tgenf.close()\n",
    "slugf.close()"
   ]
  },
  {
   "cell_type": "code",
   "execution_count": 16,
   "metadata": {},
   "outputs": [],
   "source": [
    "import pandas as pd\n",
    "testset = pd.read_csv('/data/private/E2E/dataset/testset.csv')"
   ]
  },
  {
   "cell_type": "code",
   "execution_count": 17,
   "metadata": {},
   "outputs": [
    {
     "data": {
      "text/plain": [
       "Index(['MR'], dtype='object')"
      ]
     },
     "execution_count": 17,
     "metadata": {},
     "output_type": "execute_result"
    }
   ],
   "source": [
    "testset.columns"
   ]
  },
  {
   "cell_type": "code",
   "execution_count": 18,
   "metadata": {},
   "outputs": [
    {
     "data": {
      "text/plain": [
       "(0      name[Blue Spice], eatType[coffee shop], area[c...\n",
       " 1      name[Blue Spice], eatType[coffee shop], area[r...\n",
       " 2      name[Blue Spice], eatType[coffee shop], custom...\n",
       " 3      name[Blue Spice], eatType[coffee shop], custom...\n",
       " 4      name[Blue Spice], eatType[coffee shop], custom...\n",
       "                              ...                        \n",
       " 625    name[Zizzi], eatType[coffee shop], near[The So...\n",
       " 626           name[Zizzi], eatType[pub], area[riverside]\n",
       " 627    name[Zizzi], eatType[pub], customer rating[ave...\n",
       " 628    name[Zizzi], eatType[pub], customer rating[hig...\n",
       " 629        name[Zizzi], eatType[pub], near[The Sorrento]\n",
       " Name: MR, Length: 630, dtype: object,\n",
       " 630,\n",
       " 630)"
      ]
     },
     "execution_count": 18,
     "metadata": {},
     "output_type": "execute_result"
    }
   ],
   "source": [
    "testset['MR'], len(testset), len(slug)"
   ]
  },
  {
   "cell_type": "code",
   "execution_count": 23,
   "metadata": {},
   "outputs": [],
   "source": [
    "sample_num = 100\n",
    "\n",
    "import random, csv\n",
    "idx_list = [x for x in range(630)]\n",
    "sample_list = random.sample(idx_list, sample_num)\n",
    "\n",
    "f = open('input.csv','w', newline='')\n",
    "wr = csv.writer(f)\n",
    "wr.writerow(['MRs','text', 'model'])\n",
    "\n",
    "for i in range(sample_num):\n",
    "    idx = sample_list[i]\n",
    "    \n",
    "    MRs = testset['MR'][idx]\n",
    "    \n",
    "    our_sentence = our[idx].strip()\n",
    "    tgen_sentence = tgen[idx].strip()\n",
    "    slug_sentence = slug[idx].strip()\n",
    "    \n",
    "    wr.writerow([MRs, our_sentence, 'ours'])\n",
    "    wr.writerow([MRs, tgen_sentence, 'tgen'])\n",
    "    wr.writerow([MRs, slug_sentence, 'slug'])\n",
    "    \n",
    "f.close()"
   ]
  },
  {
   "cell_type": "code",
   "execution_count": 33,
   "metadata": {},
   "outputs": [
    {
     "data": {
      "text/plain": [
       "'name[The Mill], eatType[restaurant], food[Fast food], priceRange[cheap], area[riverside], familyFriendly[yes], near[Raja Indian Cuisine]'"
      ]
     },
     "execution_count": 33,
     "metadata": {},
     "output_type": "execute_result"
    }
   ],
   "source": [
    "testset['MR'][250]"
   ]
  },
  {
   "cell_type": "code",
   "execution_count": 25,
   "metadata": {},
   "outputs": [
    {
     "data": {
      "text/plain": [
       "(\"ever since joes has changed hands it 's just gotten worse and worse .\\thowever since joes has hands it 's just gotten great and delicious .\\t0\\n\",\n",
       " \"ever since joes has changed hands it 's just gotten worse and worse .\\ti carne asada does made every only it just the prices are get mediocre stuff .\\t0\\n\")"
      ]
     },
     "execution_count": 25,
     "metadata": {},
     "output_type": "execute_result"
    }
   ],
   "source": [
    "our0[0], style0[0]"
   ]
  },
  {
   "cell_type": "code",
   "execution_count": 21,
   "metadata": {},
   "outputs": [
    {
     "data": {
      "text/plain": [
       "0"
      ]
     },
     "execution_count": 21,
     "metadata": {},
     "output_type": "execute_result"
    }
   ],
   "source": [
    "random.randrange(0,1)"
   ]
  },
  {
   "cell_type": "markdown",
   "metadata": {},
   "source": [
    "## batch"
   ]
  },
  {
   "cell_type": "code",
   "execution_count": 126,
   "metadata": {},
   "outputs": [],
   "source": [
    "import pandas as pd\n",
    "batch = pd.read_csv('/data/private/E2E/AMT/batch.csv')"
   ]
  },
  {
   "cell_type": "code",
   "execution_count": 127,
   "metadata": {},
   "outputs": [
    {
     "data": {
      "text/plain": [
       "Index(['HITId', 'HITTypeId', 'Title', 'Description', 'Keywords', 'Reward',\n",
       "       'CreationTime', 'MaxAssignments', 'RequesterAnnotation',\n",
       "       'AssignmentDurationInSeconds', 'AutoApprovalDelayInSeconds',\n",
       "       'Expiration', 'NumberOfSimilarHITs', 'LifetimeInSeconds',\n",
       "       'AssignmentId', 'WorkerId', 'AssignmentStatus', 'AcceptTime',\n",
       "       'SubmitTime', 'AutoApprovalTime', 'ApprovalTime', 'RejectionTime',\n",
       "       'RequesterFeedback', 'WorkTimeInSeconds', 'LifetimeApprovalRate',\n",
       "       'Last30DaysApprovalRate', 'Last7DaysApprovalRate', 'Input.MRs',\n",
       "       'Input.text', 'Input.model', 'Answer.contain_MR', 'Answer.naturalness',\n",
       "       'Answer.quality', 'Approve', 'Reject'],\n",
       "      dtype='object')"
      ]
     },
     "execution_count": 127,
     "metadata": {},
     "output_type": "execute_result"
    }
   ],
   "source": [
    "batch.columns"
   ]
  },
  {
   "cell_type": "code",
   "execution_count": 128,
   "metadata": {},
   "outputs": [],
   "source": [
    "limit = 0\n",
    "\n",
    "model_list = ['ours', 'tgen', 'slug']\n",
    "contain_MR = [0, 0, 0]\n",
    "naturalness = [0, 0, 0]\n",
    "quality = [0, 0, 0]\n",
    "count = [0, 0, 0]\n",
    "\n",
    "for i in range(len(batch['Input.model'])):\n",
    "    if str(batch['RequesterFeedback'][i]) != 'nan' or batch['WorkTimeInSeconds'][i] < limit:\n",
    "        continue\n",
    "    model = batch['Input.model'][i]\n",
    "    \n",
    "    contain_MR_score = batch['Answer.contain_MR'][i]\n",
    "    naturalness_score = batch['Answer.naturalness'][i]\n",
    "    quality_score = batch['Answer.quality'][i]\n",
    "    \n",
    "    k = model_list.index(model)\n",
    "    count[k] += 1\n",
    "    contain_MR[k] += contain_MR_score\n",
    "    naturalness[k] += naturalness_score\n",
    "    quality[k] += quality_score    \n",
    "\n",
    "for k in range(len(count)):\n",
    "    contain_MR[k] /= count[k]\n",
    "    naturalness[k] /= count[k]\n",
    "    quality[k] /= count[k]       "
   ]
  },
  {
   "cell_type": "code",
   "execution_count": 129,
   "metadata": {},
   "outputs": [
    {
     "name": "stdout",
     "output_type": "stream",
     "text": [
      "model ##   conatin_MR  naturalness  quality\n",
      "ours  ##  3.91 3.8 3.82\n",
      "tgen  ##  3.9833333333333334 3.8333333333333335 3.8633333333333333\n",
      "slug  ##  3.98 3.8366666666666664 3.8466666666666667\n"
     ]
    }
   ],
   "source": [
    "print('model ##  ', 'conatin_MR ', 'naturalness ', 'quality')\n",
    "for i in range(len(model_list)):\n",
    "    model = model_list[i]\n",
    "    print(model,' ## ', contain_MR[i], naturalness[i], quality[i])"
   ]
  },
  {
   "cell_type": "code",
   "execution_count": 130,
   "metadata": {},
   "outputs": [
    {
     "data": {
      "text/plain": [
       "([300, 300, 300], 900)"
      ]
     },
     "execution_count": 130,
     "metadata": {},
     "output_type": "execute_result"
    }
   ],
   "source": [
    "count, sum(count)"
   ]
  },
  {
   "cell_type": "code",
   "execution_count": 147,
   "metadata": {},
   "outputs": [],
   "source": [
    "limit = 11\n",
    "\n",
    "model_list = ['ours', 'tgen', 'slug']\n",
    "contain_MR = [[], [], []]\n",
    "naturalness = [[], [], []]\n",
    "quality = [[], [], []]\n",
    "count = [0, 0, 0]\n",
    "\n",
    "for i in range(len(batch['Input.model'])):\n",
    "    if str(batch['RequesterFeedback'][i]) != 'nan' or batch['WorkTimeInSeconds'][i] < limit:\n",
    "        continue\n",
    "    model = batch['Input.model'][i]\n",
    "    \n",
    "    contain_MR_score = batch['Answer.contain_MR'][i]\n",
    "    naturalness_score = batch['Answer.naturalness'][i]\n",
    "    quality_score = batch['Answer.quality'][i]\n",
    "    \n",
    "    k = model_list.index(model)\n",
    "    count[k] += 1\n",
    "    contain_MR[k].append(contain_MR_score)\n",
    "    naturalness[k].append(naturalness_score)\n",
    "    quality[k].append(quality_score)\n",
    "\n",
    "num = 200\n",
    "c_out = [0,0,0]\n",
    "n_out = [0,0,0]\n",
    "q_out = [0,0,0]\n",
    "\n",
    "\n",
    "for k in range(len(count)):    \n",
    "    ord_list = [i[0] for i in sorted(enumerate(contain_MR[k]), key=lambda x:x[1])]\n",
    "    for x in range(num):\n",
    "        c_out[k] += contain_MR[k][ord_list[x]]\n",
    "        n_out[k] += naturalness[k][ord_list[x]]\n",
    "        q_out[k] += quality[k][ord_list[x]]\n",
    "    c_out[k] /= num\n",
    "    n_out[k] /= num\n",
    "    q_out[k] /= num\n",
    "        \n",
    "        \n",
    "#     contain_MR[k].sort(reverse=True)\n",
    "#     naturalness[k].sort(reverse=True)\n",
    "#     quality[k].sort(reverse=True)\n",
    "    \n",
    "#     c_out[k] = sum(contain_MR[k][:num])/num\n",
    "#     n_out[k] = sum(naturalness[k][:num])/num\n",
    "#     q_out[k] = sum(quality[k][:num])/num\n",
    "\n",
    "# for k in range(len(count)):    \n",
    "#     contain_MR[k].sort(reverse=True)\n",
    "#     naturalness[k].sort(reverse=True)\n",
    "#     quality[k].sort(reverse=True)\n",
    "    \n",
    "#     c_out[k] = sum(contain_MR[k][:num])/num\n",
    "#     n_out[k] = sum(naturalness[k][:num])/num\n",
    "#     q_out[k] = sum(quality[k][:num])/num"
   ]
  },
  {
   "cell_type": "code",
   "execution_count": 148,
   "metadata": {},
   "outputs": [
    {
     "name": "stdout",
     "output_type": "stream",
     "text": [
      "model ##   contain_MR  naturalness  quality\n",
      "ours  ##  3.545 3.56 3.55\n",
      "tgen  ##  3.625 3.625 3.6\n",
      "slug  ##  3.61 3.57 3.54\n"
     ]
    }
   ],
   "source": [
    "print('model ##  ', 'contain_MR ', 'naturalness ', 'quality')\n",
    "for i in range(len(model_list)):\n",
    "    model = model_list[i]\n",
    "    print(model,' ## ', c_out[i], n_out[i], q_out[i])"
   ]
  },
  {
   "cell_type": "code",
   "execution_count": 133,
   "metadata": {},
   "outputs": [
    {
     "data": {
      "text/plain": [
       "800"
      ]
     },
     "execution_count": 133,
     "metadata": {},
     "output_type": "execute_result"
    }
   ],
   "source": [
    "sum(contain_MR[k][:num])"
   ]
  },
  {
   "cell_type": "markdown",
   "metadata": {},
   "source": [
    "## bathc_1 final (210)"
   ]
  },
  {
   "cell_type": "code",
   "execution_count": 171,
   "metadata": {},
   "outputs": [],
   "source": [
    "limit = 0\n",
    "\n",
    "model_list = ['ours', 'tgen', 'slug']\n",
    "contain_MR = [0, 0, 0]\n",
    "naturalness = [0, 0, 0]\n",
    "quality = [0, 0, 0]\n",
    "count = [0, 0, 0]\n",
    "\n",
    "num = 70\n",
    "for i in range(num*9):\n",
    "    if str(batch['RequesterFeedback'][i]) != 'nan' or batch['WorkTimeInSeconds'][i] < limit:\n",
    "        continue\n",
    "    model = batch['Input.model'][i]\n",
    "    \n",
    "    contain_MR_score = batch['Answer.contain_MR'][i]\n",
    "    naturalness_score = batch['Answer.naturalness'][i]\n",
    "    quality_score = batch['Answer.quality'][i]\n",
    "    \n",
    "    k = model_list.index(model)\n",
    "    count[k] += 1\n",
    "    contain_MR[k] += contain_MR_score\n",
    "    naturalness[k] += naturalness_score\n",
    "    quality[k] += quality_score    \n",
    "\n",
    "for k in range(len(count)):\n",
    "    contain_MR[k] /= count[k]\n",
    "    naturalness[k] /= count[k]\n",
    "    quality[k] /= count[k]       "
   ]
  },
  {
   "cell_type": "code",
   "execution_count": 172,
   "metadata": {},
   "outputs": [
    {
     "name": "stdout",
     "output_type": "stream",
     "text": [
      "model ##   conatin_MR  naturalness  quality\n",
      "ours  ##  3.9571428571428573 3.8333333333333335 3.8095238095238093\n",
      "tgen  ##  4.0095238095238095 3.8285714285714287 3.880952380952381\n",
      "slug  ##  3.9761904761904763 3.8047619047619046 3.8047619047619046\n"
     ]
    }
   ],
   "source": [
    "print('model ##  ', 'conatin_MR ', 'naturalness ', 'quality')\n",
    "for i in range(len(model_list)):\n",
    "    model = model_list[i]\n",
    "    print(model,' ## ', contain_MR[i], naturalness[i], quality[i])"
   ]
  },
  {
   "cell_type": "code",
   "execution_count": 173,
   "metadata": {},
   "outputs": [
    {
     "data": {
      "text/plain": [
       "([210, 210, 210], 630)"
      ]
     },
     "execution_count": 173,
     "metadata": {},
     "output_type": "execute_result"
    }
   ],
   "source": [
    "count, sum(count)"
   ]
  },
  {
   "cell_type": "markdown",
   "metadata": {},
   "source": [
    "## batch_2"
   ]
  },
  {
   "cell_type": "code",
   "execution_count": 9,
   "metadata": {},
   "outputs": [],
   "source": [
    "import pandas as pd\n",
    "batch = pd.read_csv('/data/private/E2E/AMT/final_batch.csv')\n",
    "# batch = pd.read_csv('/data/private/E2E/AMT/pre/eval_batch.csv')"
   ]
  },
  {
   "cell_type": "code",
   "execution_count": 10,
   "metadata": {},
   "outputs": [],
   "source": [
    "limit = 0\n",
    "\n",
    "model_list = ['ours', 'tgen', 'slug']\n",
    "naturalness = [0, 0, 0]\n",
    "quality = [0, 0, 0]\n",
    "count = [0, 0, 0]\n",
    "\n",
    "for i in range(len(batch['Input.model'])):\n",
    "    if str(batch['RequesterFeedback'][i]) != 'nan' or batch['WorkTimeInSeconds'][i] < limit:\n",
    "        continue\n",
    "    model = batch['Input.model'][i]\n",
    "    \n",
    "    naturalness_score = batch['Answer.naturalness'][i]\n",
    "    quality_score = batch['Answer.quality'][i]\n",
    "    \n",
    "    k = model_list.index(model)\n",
    "    count[k] += 1\n",
    "    naturalness[k] += naturalness_score\n",
    "    quality[k] += quality_score    \n",
    "\n",
    "for k in range(len(count)):\n",
    "    naturalness[k] /= count[k]\n",
    "    quality[k] /= count[k]       "
   ]
  },
  {
   "cell_type": "code",
   "execution_count": 11,
   "metadata": {},
   "outputs": [
    {
     "name": "stdout",
     "output_type": "stream",
     "text": [
      "model ##   naturalness  quality\n",
      "ours  ##  4.2207357859531776 4.260869565217392\n",
      "tgen  ##  4.126666666666667 4.1433333333333335\n",
      "slug  ##  4.160535117056856 4.110367892976589\n"
     ]
    }
   ],
   "source": [
    "print('model ##  ', 'naturalness ', 'quality')\n",
    "for i in range(len(model_list)):\n",
    "    model = model_list[i]\n",
    "    print(model,' ## ', naturalness[i], quality[i])"
   ]
  },
  {
   "cell_type": "code",
   "execution_count": 12,
   "metadata": {},
   "outputs": [
    {
     "data": {
      "text/plain": [
       "([299, 300, 299], 898)"
      ]
     },
     "execution_count": 12,
     "metadata": {},
     "output_type": "execute_result"
    }
   ],
   "source": [
    "count, sum(count)"
   ]
  },
  {
   "cell_type": "code",
   "execution_count": null,
   "metadata": {},
   "outputs": [],
   "source": [
    "final_batch ([299, 300, 299], 898)\n",
    "model ##   naturalness  quality\n",
    "ours  ##  4.2207357859531776 4.260869565217392\n",
    "tgen  ##  4.126666666666667 4.1433333333333335\n",
    "slug  ##  4.160535117056856 4.110367892976589"
   ]
  },
  {
   "cell_type": "code",
   "execution_count": null,
   "metadata": {},
   "outputs": [],
   "source": [
    "batch 6 ([200, 205, 200], 605) // eval_batch\n",
    "model ##   naturalness  quality\n",
    "ours  ##  4.625 4.525\n",
    "tgen  ##  4.4975609756097565 4.317073170731708\n",
    "slug  ##  4.545 4.34"
   ]
  },
  {
   "cell_type": "code",
   "execution_count": null,
   "metadata": {},
   "outputs": [],
   "source": [
    "batch2\n",
    "model ##   naturalness  quality\n",
    "ours  ##  4.620689655172414 4.489655172413793\n",
    "tgen  ##  4.515873015873016 4.301587301587301\n",
    "slug  ##  4.548148148148148 4.303703703703704"
   ]
  },
  {
   "cell_type": "code",
   "execution_count": null,
   "metadata": {},
   "outputs": [],
   "source": [
    "batch 3\n",
    "model ##   naturalness  quality\n",
    "ours  ##  4.619631901840491 4.5030674846625764\n",
    "tgen  ##  4.512820512820513 4.269230769230769\n",
    "slug  ##  4.566265060240964 4.319277108433735"
   ]
  },
  {
   "cell_type": "code",
   "execution_count": null,
   "metadata": {},
   "outputs": [],
   "source": [
    "batch 4\n",
    "model ##   naturalness  quality\n",
    "ours  ##  4.620689655172414 4.494252873563219\n",
    "tgen  ##  4.483333333333333 4.272222222222222\n",
    "slug  ##  4.54696132596685 4.30939226519337"
   ]
  },
  {
   "cell_type": "code",
   "execution_count": null,
   "metadata": {},
   "outputs": [],
   "source": [
    "batch 5\n",
    "model ##   naturalness  quality\n",
    "ours  ##  4.62962962962963 4.518518518518518\n",
    "tgen  ##  4.481675392670157 4.277486910994765\n",
    "slug  ##  4.526315789473684 4.3052631578947365"
   ]
  },
  {
   "cell_type": "code",
   "execution_count": null,
   "metadata": {},
   "outputs": [],
   "source": []
  }
 ],
 "metadata": {
  "kernelspec": {
   "display_name": "Python 3",
   "language": "python",
   "name": "python3"
  },
  "language_info": {
   "codemirror_mode": {
    "name": "ipython",
    "version": 3
   },
   "file_extension": ".py",
   "mimetype": "text/x-python",
   "name": "python",
   "nbconvert_exporter": "python",
   "pygments_lexer": "ipython3",
   "version": "3.7.7"
  }
 },
 "nbformat": 4,
 "nbformat_minor": 4
}
